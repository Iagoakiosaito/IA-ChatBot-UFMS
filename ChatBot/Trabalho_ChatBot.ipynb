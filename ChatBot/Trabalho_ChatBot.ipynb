{
  "cells": [
    {
      "cell_type": "markdown",
      "metadata": {
        "id": "Kwpg_z3gttKs"
      },
      "source": [
        "# **ChatBot desenvolvido para a matéria de IA,**\n",
        "\n",
        "## **Escopo:**\n",
        "> ChatBot em desenvolvimento voltado para vendas de produtos de uma papelaria.\n",
        "\n",
        "\n"
      ]
    },
    {
      "cell_type": "markdown",
      "metadata": {
        "id": "CzECPyO4tawL"
      },
      "source": [
        "\n",
        "\n",
        "*   Aluno: Iago Akio Saito\n",
        "*   RGA: 2020.1906.060-1\n",
        "\n"
      ]
    },
    {
      "cell_type": "code",
      "execution_count": 11,
      "metadata": {
        "id": "ASJJleMFfBGL"
      },
      "outputs": [
        {
          "ename": "ModuleNotFoundError",
          "evalue": "No module named 'nltk'",
          "output_type": "error",
          "traceback": [
            "\u001b[1;31m---------------------------------------------------------------------------\u001b[0m",
            "\u001b[1;31mModuleNotFoundError\u001b[0m                       Traceback (most recent call last)",
            "\u001b[1;32m~\\AppData\\Local\\Temp/ipykernel_13288/1503625835.py\u001b[0m in \u001b[0;36m<module>\u001b[1;34m\u001b[0m\n\u001b[0;32m      7\u001b[0m \u001b[1;32mfrom\u001b[0m \u001b[0msklearn\u001b[0m\u001b[1;33m.\u001b[0m\u001b[0mmodel_selection\u001b[0m \u001b[1;32mimport\u001b[0m \u001b[0mLeaveOneOut\u001b[0m\u001b[1;33m\u001b[0m\u001b[1;33m\u001b[0m\u001b[0m\n\u001b[0;32m      8\u001b[0m \u001b[1;32mfrom\u001b[0m \u001b[0msklearn\u001b[0m\u001b[1;33m.\u001b[0m\u001b[0mmodel_selection\u001b[0m \u001b[1;32mimport\u001b[0m \u001b[0mRandomizedSearchCV\u001b[0m\u001b[1;33m\u001b[0m\u001b[1;33m\u001b[0m\u001b[0m\n\u001b[1;32m----> 9\u001b[1;33m \u001b[1;32mimport\u001b[0m \u001b[0mnltk\u001b[0m\u001b[1;33m\u001b[0m\u001b[1;33m\u001b[0m\u001b[0m\n\u001b[0m\u001b[0;32m     10\u001b[0m \u001b[1;32mimport\u001b[0m \u001b[0mnltk\u001b[0m\u001b[1;33m\u001b[0m\u001b[1;33m\u001b[0m\u001b[0m\n\u001b[0;32m     11\u001b[0m \u001b[1;32mimport\u001b[0m \u001b[0mpandas\u001b[0m \u001b[1;32mas\u001b[0m \u001b[0mpd\u001b[0m\u001b[1;33m\u001b[0m\u001b[1;33m\u001b[0m\u001b[0m\n",
            "\u001b[1;31mModuleNotFoundError\u001b[0m: No module named 'nltk'"
          ]
        }
      ],
      "source": [
        "from sklearn.feature_extraction.text import TfidfVectorizer\n",
        "from sklearn.model_selection import train_test_split\n",
        "from sklearn import metrics\n",
        "from sklearn.neighbors import KNeighborsClassifier\n",
        "from sklearn import tree\n",
        "from sklearn.metrics import make_scorer\n",
        "from sklearn.model_selection import LeaveOneOut\n",
        "from sklearn.model_selection import RandomizedSearchCV\n",
        "import nltk\n",
        "import nltk\n",
        "import pandas as pd\n",
        "import numpy as np\n",
        "import unicodedata\n",
        "\n",
        "\n",
        "url = \"https://raw.githubusercontent.com/Iagoakiosaito/IA-ChatBot-UFMS/main/Chatter-DB.csv\"\n",
        "df=pd.read_csv(url)\n",
        "df = df[df['Orador'].notna()]\n",
        "df = df[df['Sentença'].notna()]\n",
        "df = df[df['Intenção'].notna()]\n",
        "df = df[(df.Orador == '<')]"
      ]
    },
    {
      "cell_type": "code",
      "execution_count": 14,
      "metadata": {},
      "outputs": [],
      "source": [
        "def normalize_caseless(text):\n",
        "    return unicodedata.normalize(\"NFKD\", text.casefold()).encode(\"ASCII\", \"ignore\").decode(\"ASCII\")\n",
        "\n",
        "def caseless_equal(left, right):\n",
        "    return normalize_caseless(left) == normalize_caseless(right)"
      ]
    },
    {
      "cell_type": "code",
      "execution_count": null,
      "metadata": {
        "id": "z7xuOPCVfIN2"
      },
      "outputs": [],
      "source": [
        "vectorizer = TfidfVectorizer(sublinear_tf=True, max_df=0.6, strip_accents='unicode')"
      ]
    },
    {
      "cell_type": "code",
      "execution_count": null,
      "metadata": {
        "id": "GrSw06h71tH-"
      },
      "outputs": [],
      "source": [
        "x = vectorizer.fit_transform(df.Sentença)\n",
        "y = np.array(df.Intenção)"
      ]
    },
    {
      "cell_type": "markdown",
      "metadata": {
        "id": "gRjhtcDDs1Rx"
      },
      "source": [
        "# KNN, sem utilização do loo"
      ]
    },
    {
      "cell_type": "code",
      "execution_count": null,
      "metadata": {
        "id": "fKczc66yk2So"
      },
      "outputs": [],
      "source": [
        "x_treino, x_teste, y_treino, y_teste = train_test_split( x, y, test_size=0.3, random_state=10,stratify=y)\n",
        "model = KNeighborsClassifier(n_neighbors=8, weights= \"uniform\")\n",
        "model.fit(x_treino,y_treino)\n",
        "\n",
        "text = input(str())\n",
        "inst = vectorizer.transform([text])\n",
        "print(model.predict(inst))"
      ]
    },
    {
      "cell_type": "markdown",
      "metadata": {
        "id": "1kX0qm1GwB93"
      },
      "source": [
        "#### Métricas KNN"
      ]
    },
    {
      "cell_type": "code",
      "execution_count": null,
      "metadata": {
        "id": "MN-ZEstfwLA2"
      },
      "outputs": [],
      "source": [
        "pred_KNN = model.predict(x_teste)"
      ]
    },
    {
      "cell_type": "code",
      "execution_count": null,
      "metadata": {
        "colab": {
          "base_uri": "https://localhost:8080/"
        },
        "id": "24Y-jO7qwL77",
        "outputId": "0b3fd6a3-6701-4250-e764-bd80596637f2"
      },
      "outputs": [
        {
          "data": {
            "text/plain": [
              "1.0"
            ]
          },
          "execution_count": 26,
          "metadata": {},
          "output_type": "execute_result"
        }
      ],
      "source": [
        "metrics.precision_score(y_teste,pred_KNN,average='macro')"
      ]
    },
    {
      "cell_type": "code",
      "execution_count": null,
      "metadata": {
        "colab": {
          "base_uri": "https://localhost:8080/"
        },
        "id": "QHL1oyNVwOxB",
        "outputId": "1f9f10c0-0f90-4cef-d42e-088ba27ec9a4"
      },
      "outputs": [
        {
          "data": {
            "text/plain": [
              "1.0"
            ]
          },
          "execution_count": 27,
          "metadata": {},
          "output_type": "execute_result"
        }
      ],
      "source": [
        "metrics.recall_score(y_teste,pred_KNN,average='macro')"
      ]
    },
    {
      "cell_type": "markdown",
      "metadata": {
        "id": "4O9iBDag1DXi"
      },
      "source": [
        "# Random Search"
      ]
    },
    {
      "cell_type": "code",
      "execution_count": null,
      "metadata": {
        "id": "RXPXVL6ao4od"
      },
      "outputs": [],
      "source": [
        "parameters = {'n_neighbors':range(1,10),'weights':['uniform','distance']}"
      ]
    },
    {
      "cell_type": "code",
      "execution_count": null,
      "metadata": {
        "id": "A0fYfzNr1UtZ"
      },
      "outputs": [],
      "source": [
        "rs = RandomizedSearchCV(model,parameters,n_iter=10,refit=True)"
      ]
    },
    {
      "cell_type": "code",
      "execution_count": null,
      "metadata": {
        "colab": {
          "base_uri": "https://localhost:8080/"
        },
        "id": "7jJrkGEwygds",
        "outputId": "e69fe8bd-d47d-4520-c845-318d7182c450"
      },
      "outputs": [
        {
          "data": {
            "text/plain": [
              "RandomizedSearchCV(cv=None, error_score=nan,\n",
              "                   estimator=KNeighborsClassifier(algorithm='auto',\n",
              "                                                  leaf_size=30,\n",
              "                                                  metric='minkowski',\n",
              "                                                  metric_params=None,\n",
              "                                                  n_jobs=None, n_neighbors=8,\n",
              "                                                  p=2, weights='uniform'),\n",
              "                   iid='deprecated', n_iter=10, n_jobs=None,\n",
              "                   param_distributions={'n_neighbors': range(1, 10),\n",
              "                                        'weights': ['uniform', 'distance']},\n",
              "                   pre_dispatch='2*n_jobs', random_state=None, refit=True,\n",
              "                   return_train_score=False, scoring=None, verbose=0)"
            ]
          },
          "execution_count": 11,
          "metadata": {},
          "output_type": "execute_result"
        }
      ],
      "source": [
        "rs.fit(x,y)"
      ]
    },
    {
      "cell_type": "code",
      "execution_count": null,
      "metadata": {
        "colab": {
          "base_uri": "https://localhost:8080/"
        },
        "id": "rSvK54HUne4_",
        "outputId": "7c4286e8-44df-4888-8b96-7573437c15fd"
      },
      "outputs": [
        {
          "data": {
            "text/plain": [
              "{'n_neighbors': 9, 'weights': 'uniform'}"
            ]
          },
          "execution_count": 12,
          "metadata": {},
          "output_type": "execute_result"
        }
      ],
      "source": [
        "rs.best_params_"
      ]
    },
    {
      "cell_type": "code",
      "execution_count": null,
      "metadata": {
        "colab": {
          "base_uri": "https://localhost:8080/"
        },
        "id": "-GVEraoAnfyN",
        "outputId": "e97769dd-c514-4296-a49e-d711ca12f5fc"
      },
      "outputs": [
        {
          "data": {
            "text/plain": [
              "0.95"
            ]
          },
          "execution_count": 13,
          "metadata": {},
          "output_type": "execute_result"
        }
      ],
      "source": [
        "rs.best_score_"
      ]
    },
    {
      "cell_type": "code",
      "execution_count": null,
      "metadata": {
        "colab": {
          "base_uri": "https://localhost:8080/"
        },
        "id": "hBblKzKLngtR",
        "outputId": "8bd2e6d9-8f7e-4a87-a8f0-5ab84d040eb6"
      },
      "outputs": [
        {
          "data": {
            "text/plain": [
              "KNeighborsClassifier(algorithm='auto', leaf_size=30, metric='minkowski',\n",
              "                     metric_params=None, n_jobs=None, n_neighbors=9, p=2,\n",
              "                     weights='uniform')"
            ]
          },
          "execution_count": 14,
          "metadata": {},
          "output_type": "execute_result"
        }
      ],
      "source": [
        "rs.best_estimator_"
      ]
    },
    {
      "cell_type": "markdown",
      "metadata": {
        "id": "GfeVFLxm25ug"
      },
      "source": [
        "# Árvore de decisão simples, sem utilização do loo"
      ]
    },
    {
      "cell_type": "code",
      "execution_count": null,
      "metadata": {
        "id": "2QbyW6Onk3ub"
      },
      "outputs": [],
      "source": [
        "x_treino, x_teste, y_treino, y_teste = train_test_split( x, y, test_size=0.3, random_state=10,stratify=y)"
      ]
    },
    {
      "cell_type": "code",
      "execution_count": null,
      "metadata": {
        "id": "OzOy80p628fd"
      },
      "outputs": [],
      "source": [
        "clf = tree.DecisionTreeClassifier()\n",
        "clf = clf.fit(x_treino, y_treino)\n",
        "pred_clf = clf.predict(x_teste)"
      ]
    },
    {
      "cell_type": "code",
      "execution_count": null,
      "metadata": {
        "colab": {
          "base_uri": "https://localhost:8080/"
        },
        "id": "vqjVVce83QwU",
        "outputId": "6aeb985b-bca5-486e-bc2f-2f7dbf4beaeb"
      },
      "outputs": [
        {
          "name": "stdout",
          "output_type": "stream",
          "text": [
            "lápis\n",
            "['Pedido']\n"
          ]
        }
      ],
      "source": [
        "text = input(str())\n",
        "inst = vectorizer.transform([text])\n",
        "print(clf.predict(inst))"
      ]
    },
    {
      "cell_type": "code",
      "execution_count": null,
      "metadata": {
        "colab": {
          "base_uri": "https://localhost:8080/"
        },
        "id": "8Rx18cHZkm3o",
        "outputId": "672d3bec-170e-41af-8bea-72deee447601"
      },
      "outputs": [
        {
          "data": {
            "text/plain": [
              "1.0"
            ]
          },
          "execution_count": 18,
          "metadata": {},
          "output_type": "execute_result"
        }
      ],
      "source": [
        "metrics.precision_score(y_teste,pred_clf,average=\"micro\")"
      ]
    },
    {
      "cell_type": "code",
      "execution_count": null,
      "metadata": {
        "colab": {
          "base_uri": "https://localhost:8080/"
        },
        "id": "GHdn1IuUknxG",
        "outputId": "29011d98-99b7-4d34-8d14-e3f1dbe93f50"
      },
      "outputs": [
        {
          "data": {
            "text/plain": [
              "1.0"
            ]
          },
          "execution_count": 19,
          "metadata": {},
          "output_type": "execute_result"
        }
      ],
      "source": [
        "metrics.recall_score(y_teste,pred_clf,average='macro')"
      ]
    },
    {
      "cell_type": "markdown",
      "metadata": {
        "id": "LoFKvr-B18Tm"
      },
      "source": [
        "# Leave One Out"
      ]
    },
    {
      "cell_type": "markdown",
      "metadata": {
        "id": "TOIopmMYrXbs"
      },
      "source": [
        "## loo do KNN"
      ]
    },
    {
      "cell_type": "code",
      "execution_count": null,
      "metadata": {
        "colab": {
          "base_uri": "https://localhost:8080/"
        },
        "id": "B7KyEOAP2Dfu",
        "outputId": "7feefb9b-a024-4a3a-bac1-a129b7889818"
      },
      "outputs": [
        {
          "data": {
            "text/plain": [
              "0.9777777777777777"
            ]
          },
          "execution_count": 28,
          "metadata": {},
          "output_type": "execute_result"
        }
      ],
      "source": [
        "loo = LeaveOneOut()\n",
        "loo.get_n_splits(x)\n",
        "scores = []\n",
        "for train_index, test_index in loo.split(x):\n",
        "\n",
        "    x_treino, x_teste = x[train_index], x[test_index]\n",
        "    y_treino, y_teste = y[train_index], y[test_index]\n",
        "    \n",
        "    model = KNeighborsClassifier(n_neighbors=9, weights= \"uniform\")\n",
        "    model.fit(x_treino,y_treino)\n",
        "    predi = model.predict(x_teste)\n",
        "    scores.append(metrics.accuracy_score(y_teste,predi))\n",
        "np.mean(scores)"
      ]
    },
    {
      "cell_type": "code",
      "execution_count": null,
      "metadata": {
        "colab": {
          "base_uri": "https://localhost:8080/"
        },
        "id": "jJ0Yvxv9lP1G",
        "outputId": "a131bc5d-d745-42d2-dc4d-df7979ed4bdf"
      },
      "outputs": [
        {
          "data": {
            "text/plain": [
              "1.0"
            ]
          },
          "execution_count": 29,
          "metadata": {},
          "output_type": "execute_result"
        }
      ],
      "source": [
        "metrics.precision_score(y_teste, predi, average=\"macro\")"
      ]
    },
    {
      "cell_type": "code",
      "execution_count": null,
      "metadata": {
        "colab": {
          "base_uri": "https://localhost:8080/"
        },
        "id": "ccisBLLxlRTR",
        "outputId": "ebaa233a-ea50-4e86-ae92-40ffb204a493"
      },
      "outputs": [
        {
          "data": {
            "text/plain": [
              "1.0"
            ]
          },
          "execution_count": 30,
          "metadata": {},
          "output_type": "execute_result"
        }
      ],
      "source": [
        "metrics.recall_score(y_teste, predi, average='macro')"
      ]
    },
    {
      "cell_type": "markdown",
      "metadata": {
        "id": "ZN-0Oqfwrfsb"
      },
      "source": [
        "## loo da árvore de decisão"
      ]
    },
    {
      "cell_type": "code",
      "execution_count": null,
      "metadata": {
        "colab": {
          "base_uri": "https://localhost:8080/"
        },
        "id": "2vIFac1tse_f",
        "outputId": "fb3407d9-5992-4616-b208-3427c6927150"
      },
      "outputs": [
        {
          "data": {
            "text/plain": [
              "0.9833333333333333"
            ]
          },
          "execution_count": 24,
          "metadata": {},
          "output_type": "execute_result"
        }
      ],
      "source": [
        "loo = LeaveOneOut()\n",
        "loo.get_n_splits(x)\n",
        "scores = []\n",
        "for train_index, test_index in loo.split(x):\n",
        "\n",
        "    x_treino, x_teste = x[train_index], x[test_index]\n",
        "    y_treino, y_teste = y[train_index], y[test_index]\n",
        "    \n",
        "    clf = tree.DecisionTreeClassifier()\n",
        "    clf.fit(x_treino,y_treino)\n",
        "    pred = clf.predict(x_teste)\n",
        "    scores.append(metrics.accuracy_score(y_teste,pred))\n",
        "np.mean(scores)"
      ]
    },
    {
      "cell_type": "markdown",
      "metadata": {},
      "source": [
        "# **Fase 2**"
      ]
    },
    {
      "cell_type": "code",
      "execution_count": 9,
      "metadata": {},
      "outputs": [
        {
          "ename": "ModuleNotFoundError",
          "evalue": "No module named 'nltk'",
          "output_type": "error",
          "traceback": [
            "\u001b[1;31m---------------------------------------------------------------------------\u001b[0m",
            "\u001b[1;31mModuleNotFoundError\u001b[0m                       Traceback (most recent call last)",
            "\u001b[1;32m~\\AppData\\Local\\Temp/ipykernel_13288/2692908989.py\u001b[0m in \u001b[0;36m<module>\u001b[1;34m\u001b[0m\n\u001b[1;32m----> 1\u001b[1;33m \u001b[1;32mimport\u001b[0m \u001b[0mnltk\u001b[0m\u001b[1;33m\u001b[0m\u001b[1;33m\u001b[0m\u001b[0m\n\u001b[0m\u001b[0;32m      2\u001b[0m \u001b[0msetup_module\u001b[0m\u001b[1;33m(\u001b[0m\u001b[1;33m)\u001b[0m\u001b[1;33m\u001b[0m\u001b[1;33m\u001b[0m\u001b[0m\n",
            "\u001b[1;31mModuleNotFoundError\u001b[0m: No module named 'nltk'"
          ]
        }
      ],
      "source": [
        "\n",
        "setup_module()\n"
      ]
    },
    {
      "cell_type": "markdown",
      "metadata": {},
      "source": [
        "## Etiquetador de entidades"
      ]
    },
    {
      "cell_type": "code",
      "execution_count": 15,
      "metadata": {},
      "outputs": [],
      "source": [
        "corpus = input(str(\"Insira aqui o corpus para ter suas entidades identificadas: \"))\n",
        "corpus = normalize_caseless(corpus)"
      ]
    },
    {
      "cell_type": "code",
      "execution_count": 1,
      "metadata": {},
      "outputs": [],
      "source": [
        "dict_ent = {\n",
        "\n",
        "    \"produto\" : [\"caderno\", \"cadernos\", \"lapis\", \"livro\", \"livros\", \"caneta\", \"canetas\", \"canetinha\", \"canetinhas\", \"papel\", \"papeis\", \"eva\", \"borracha\", \"borrachas\", \"\"],\n",
        "    \"quantidade\" : [1, 2, 3, 4, 5, 6, 7, 8, 9, 10, 11, 12, 13, 14, 15, 16, 17, 18, 19, 20],\n",
        "    \"quantidade\" : [\"um\", \"dois\", \"tres\", \"quatro\", \"cinco\", \"seis\", \"sete\", \"oito\", \"nove\", \"dez\", \"onze\", \"doze\", \"treze\", \"quatorze\", \"quinze\", \"dezesseis\", \"dezessete\", \"dezoito\", \"dezenove\", \"vinte\"]\n",
        "\n",
        "}"
      ]
    },
    {
      "cell_type": "code",
      "execution_count": 17,
      "metadata": {},
      "outputs": [
        {
          "ename": "SyntaxError",
          "evalue": "invalid syntax (Temp/ipykernel_15144/2442418435.py, line 5)",
          "output_type": "error",
          "traceback": [
            "\u001b[1;36m  File \u001b[1;32m\"C:\\Users\\Iago\\AppData\\Local\\Temp/ipykernel_15144/2442418435.py\"\u001b[1;36m, line \u001b[1;32m5\u001b[0m\n\u001b[1;33m    if ()\u001b[0m\n\u001b[1;37m         ^\u001b[0m\n\u001b[1;31mSyntaxError\u001b[0m\u001b[1;31m:\u001b[0m invalid syntax\n"
          ]
        }
      ],
      "source": [
        "split = corpus.split()\n",
        "\n",
        "for palavra in split:\n",
        "    for chave, valor in dict_ent.items():\n",
        "        \n",
        "        "
      ]
    }
  ],
  "metadata": {
    "colab": {
      "collapsed_sections": [
        "4O9iBDag1DXi"
      ],
      "name": "Trabalho_ChatBot.ipynb",
      "provenance": []
    },
    "interpreter": {
      "hash": "3d7d3d09c86f80e75a57d6f09fe152fe76224eb6511d940c0c3bd3cf32d56ee3"
    },
    "kernelspec": {
      "display_name": "Python 3.9.6 64-bit",
      "name": "python3"
    },
    "language_info": {
      "codemirror_mode": {
        "name": "ipython",
        "version": 3
      },
      "file_extension": ".py",
      "mimetype": "text/x-python",
      "name": "python",
      "nbconvert_exporter": "python",
      "pygments_lexer": "ipython3",
      "version": "3.9.6"
    }
  },
  "nbformat": 4,
  "nbformat_minor": 0
}
